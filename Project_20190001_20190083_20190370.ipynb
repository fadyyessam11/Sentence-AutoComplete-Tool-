{
 "cells": [
  {
   "cell_type": "markdown",
   "id": "BU1jZfeO5G9W",
   "metadata": {
    "id": "BU1jZfeO5G9W"
   },
   "source": [
    "## Team Members:\n",
    "\n",
    "1- Abanoub Samir | ID:20190001\n",
    "\n",
    "2- Aram Gamal    | ID:20190089\n",
    "\n",
    "3- Fady Essam    | ID:20190370"
   ]
  },
  {
   "cell_type": "markdown",
   "id": "djSxQ7PyGRVN",
   "metadata": {
    "id": "djSxQ7PyGRVN"
   },
   "source": [
    "## Import Libraries"
   ]
  },
  {
   "cell_type": "code",
   "execution_count": 1,
   "id": "db25fc8a",
   "metadata": {
    "id": "db25fc8a"
   },
   "outputs": [],
   "source": [
    "import tarfile\n",
    "import nltk\n",
    "import pandas as pd\n",
    "import gensim\n",
    "from gensim.models import Word2Vec\n",
    "from keras.preprocessing.text import Tokenizer\n",
    "from tensorflow.keras.utils import to_categorical\n",
    "from keras.models import Sequential\n",
    "from keras.layers import Embedding, LSTM, Dense\n",
    "from tensorflow.keras.preprocessing.sequence import pad_sequences\n",
    "import numpy as np\n",
    "import re\n",
    "import nltk"
   ]
  },
  {
   "cell_type": "markdown",
   "id": "00f28f8e",
   "metadata": {
    "id": "00f28f8e"
   },
   "source": [
    "## Loading and Prepare Data"
   ]
  },
  {
   "cell_type": "code",
   "execution_count": 2,
   "id": "674b6590",
   "metadata": {
    "collapsed": true,
    "id": "674b6590"
   },
   "outputs": [],
   "source": [
    "tar_path = 'enronsentv1.tar.gz'\n",
    "with tarfile.open(tar_path, 'r:gz') as tar:\n",
    "    tar.extractall()"
   ]
  },
  {
   "cell_type": "code",
   "execution_count": 3,
   "id": "1a0a2d65",
   "metadata": {
    "id": "1a0a2d65",
    "scrolled": true
   },
   "outputs": [],
   "source": [
    "train_list=['00','01','02','03','04','05','06','07','08','09','10']\n",
    "train_data=[]\n",
    "for i in train_list: \n",
    "    with open(f\"enronsent//enronsent{i}\", 'r') as file:\n",
    "        file_contents = file.read()\n",
    "        train_data.extend(file_contents.split('\\n\\n')) \n",
    "train_data=pd.DataFrame(train_data,columns=['paragraph'])"
   ]
  },
  {
   "cell_type": "code",
   "execution_count": 4,
   "id": "66e11da8",
   "metadata": {
    "colab": {
     "base_uri": "https://localhost:8080/",
     "height": 423
    },
    "id": "66e11da8",
    "outputId": "82b6cf41-88be-46f3-b029-f628812eb0e6"
   },
   "outputs": [
    {
     "data": {
      "text/html": [
       "\n",
       "  <div id=\"df-8879e1b7-881e-4fa6-8d55-2f5d33744fa1\">\n",
       "    <div class=\"colab-df-container\">\n",
       "      <div>\n",
       "<style scoped>\n",
       "    .dataframe tbody tr th:only-of-type {\n",
       "        vertical-align: middle;\n",
       "    }\n",
       "\n",
       "    .dataframe tbody tr th {\n",
       "        vertical-align: top;\n",
       "    }\n",
       "\n",
       "    .dataframe thead th {\n",
       "        text-align: right;\n",
       "    }\n",
       "</style>\n",
       "<table border=\"1\" class=\"dataframe\">\n",
       "  <thead>\n",
       "    <tr style=\"text-align: right;\">\n",
       "      <th></th>\n",
       "      <th>paragraph</th>\n",
       "    </tr>\n",
       "  </thead>\n",
       "  <tbody>\n",
       "    <tr>\n",
       "      <th>0</th>\n",
       "      <td>\\nAttached  are two files that illustrate the ...</td>\n",
       "    </tr>\n",
       "    <tr>\n",
       "      <th>1</th>\n",
       "      <td>As prices rose, supply increased and demand de...</td>\n",
       "    </tr>\n",
       "    <tr>\n",
       "      <th>2</th>\n",
       "      <td>Financial  (6)\\n  West Desk  (14)\\nMid Market ...</td>\n",
       "    </tr>\n",
       "    <tr>\n",
       "      <th>3</th>\n",
       "      <td>Share information about yourself, create your ...</td>\n",
       "    </tr>\n",
       "    <tr>\n",
       "      <th>4</th>\n",
       "      <td>- utility.xls\\n - utility.xls</td>\n",
       "    </tr>\n",
       "    <tr>\n",
       "      <th>...</th>\n",
       "      <td>...</td>\n",
       "    </tr>\n",
       "    <tr>\n",
       "      <th>119312</th>\n",
       "      <td>Those dates are fine for me.  Copies of the do...</td>\n",
       "    </tr>\n",
       "    <tr>\n",
       "      <th>119313</th>\n",
       "      <td>Peter E Weidler\\n12/20/2000 08:57 AM\\nI have b...</td>\n",
       "    </tr>\n",
       "    <tr>\n",
       "      <th>119314</th>\n",
       "      <td>Think there are different definitions of succe...</td>\n",
       "    </tr>\n",
       "    <tr>\n",
       "      <th>119315</th>\n",
       "      <td>Cuiaba I is very much intertwined with the GTB...</td>\n",
       "    </tr>\n",
       "    <tr>\n",
       "      <th>119316</th>\n",
       "      <td>I would like to meet with Jose, John, Joao Car...</td>\n",
       "    </tr>\n",
       "  </tbody>\n",
       "</table>\n",
       "<p>119317 rows × 1 columns</p>\n",
       "</div>\n",
       "      <button class=\"colab-df-convert\" onclick=\"convertToInteractive('df-8879e1b7-881e-4fa6-8d55-2f5d33744fa1')\"\n",
       "              title=\"Convert this dataframe to an interactive table.\"\n",
       "              style=\"display:none;\">\n",
       "        \n",
       "  <svg xmlns=\"http://www.w3.org/2000/svg\" height=\"24px\"viewBox=\"0 0 24 24\"\n",
       "       width=\"24px\">\n",
       "    <path d=\"M0 0h24v24H0V0z\" fill=\"none\"/>\n",
       "    <path d=\"M18.56 5.44l.94 2.06.94-2.06 2.06-.94-2.06-.94-.94-2.06-.94 2.06-2.06.94zm-11 1L8.5 8.5l.94-2.06 2.06-.94-2.06-.94L8.5 2.5l-.94 2.06-2.06.94zm10 10l.94 2.06.94-2.06 2.06-.94-2.06-.94-.94-2.06-.94 2.06-2.06.94z\"/><path d=\"M17.41 7.96l-1.37-1.37c-.4-.4-.92-.59-1.43-.59-.52 0-1.04.2-1.43.59L10.3 9.45l-7.72 7.72c-.78.78-.78 2.05 0 2.83L4 21.41c.39.39.9.59 1.41.59.51 0 1.02-.2 1.41-.59l7.78-7.78 2.81-2.81c.8-.78.8-2.07 0-2.86zM5.41 20L4 18.59l7.72-7.72 1.47 1.35L5.41 20z\"/>\n",
       "  </svg>\n",
       "      </button>\n",
       "      \n",
       "  <style>\n",
       "    .colab-df-container {\n",
       "      display:flex;\n",
       "      flex-wrap:wrap;\n",
       "      gap: 12px;\n",
       "    }\n",
       "\n",
       "    .colab-df-convert {\n",
       "      background-color: #E8F0FE;\n",
       "      border: none;\n",
       "      border-radius: 50%;\n",
       "      cursor: pointer;\n",
       "      display: none;\n",
       "      fill: #1967D2;\n",
       "      height: 32px;\n",
       "      padding: 0 0 0 0;\n",
       "      width: 32px;\n",
       "    }\n",
       "\n",
       "    .colab-df-convert:hover {\n",
       "      background-color: #E2EBFA;\n",
       "      box-shadow: 0px 1px 2px rgba(60, 64, 67, 0.3), 0px 1px 3px 1px rgba(60, 64, 67, 0.15);\n",
       "      fill: #174EA6;\n",
       "    }\n",
       "\n",
       "    [theme=dark] .colab-df-convert {\n",
       "      background-color: #3B4455;\n",
       "      fill: #D2E3FC;\n",
       "    }\n",
       "\n",
       "    [theme=dark] .colab-df-convert:hover {\n",
       "      background-color: #434B5C;\n",
       "      box-shadow: 0px 1px 3px 1px rgba(0, 0, 0, 0.15);\n",
       "      filter: drop-shadow(0px 1px 2px rgba(0, 0, 0, 0.3));\n",
       "      fill: #FFFFFF;\n",
       "    }\n",
       "  </style>\n",
       "\n",
       "      <script>\n",
       "        const buttonEl =\n",
       "          document.querySelector('#df-8879e1b7-881e-4fa6-8d55-2f5d33744fa1 button.colab-df-convert');\n",
       "        buttonEl.style.display =\n",
       "          google.colab.kernel.accessAllowed ? 'block' : 'none';\n",
       "\n",
       "        async function convertToInteractive(key) {\n",
       "          const element = document.querySelector('#df-8879e1b7-881e-4fa6-8d55-2f5d33744fa1');\n",
       "          const dataTable =\n",
       "            await google.colab.kernel.invokeFunction('convertToInteractive',\n",
       "                                                     [key], {});\n",
       "          if (!dataTable) return;\n",
       "\n",
       "          const docLinkHtml = 'Like what you see? Visit the ' +\n",
       "            '<a target=\"_blank\" href=https://colab.research.google.com/notebooks/data_table.ipynb>data table notebook</a>'\n",
       "            + ' to learn more about interactive tables.';\n",
       "          element.innerHTML = '';\n",
       "          dataTable['output_type'] = 'display_data';\n",
       "          await google.colab.output.renderOutput(dataTable, element);\n",
       "          const docLink = document.createElement('div');\n",
       "          docLink.innerHTML = docLinkHtml;\n",
       "          element.appendChild(docLink);\n",
       "        }\n",
       "      </script>\n",
       "    </div>\n",
       "  </div>\n",
       "  "
      ],
      "text/plain": [
       "                                                paragraph\n",
       "0       \\nAttached  are two files that illustrate the ...\n",
       "1       As prices rose, supply increased and demand de...\n",
       "2       Financial  (6)\\n  West Desk  (14)\\nMid Market ...\n",
       "3       Share information about yourself, create your ...\n",
       "4                           - utility.xls\\n - utility.xls\n",
       "...                                                   ...\n",
       "119312  Those dates are fine for me.  Copies of the do...\n",
       "119313  Peter E Weidler\\n12/20/2000 08:57 AM\\nI have b...\n",
       "119314  Think there are different definitions of succe...\n",
       "119315  Cuiaba I is very much intertwined with the GTB...\n",
       "119316  I would like to meet with Jose, John, Joao Car...\n",
       "\n",
       "[119317 rows x 1 columns]"
      ]
     },
     "execution_count": 4,
     "metadata": {},
     "output_type": "execute_result"
    }
   ],
   "source": [
    "train_data"
   ]
  },
  {
   "cell_type": "code",
   "execution_count": 5,
   "id": "56430318",
   "metadata": {
    "id": "56430318"
   },
   "outputs": [],
   "source": [
    "test_data=[]\n",
    "for i in range(11,16): \n",
    "    with open(f\"enronsent//enronsent{i}\", 'r') as file:\n",
    "        file_contents = file.read()\n",
    "        test_data.extend(file_contents.split('\\n\\n')) \n",
    "test_data=pd.DataFrame(test_data,columns=['paragraph'])"
   ]
  },
  {
   "cell_type": "code",
   "execution_count": 6,
   "id": "4d954745",
   "metadata": {
    "colab": {
     "base_uri": "https://localhost:8080/",
     "height": 423
    },
    "id": "4d954745",
    "outputId": "ee3509bc-da7e-49b7-bbe1-d4cec550a47e"
   },
   "outputs": [
    {
     "data": {
      "text/html": [
       "\n",
       "  <div id=\"df-4519dcd8-c688-43f4-9a50-eab6a73bffcc\">\n",
       "    <div class=\"colab-df-container\">\n",
       "      <div>\n",
       "<style scoped>\n",
       "    .dataframe tbody tr th:only-of-type {\n",
       "        vertical-align: middle;\n",
       "    }\n",
       "\n",
       "    .dataframe tbody tr th {\n",
       "        vertical-align: top;\n",
       "    }\n",
       "\n",
       "    .dataframe thead th {\n",
       "        text-align: right;\n",
       "    }\n",
       "</style>\n",
       "<table border=\"1\" class=\"dataframe\">\n",
       "  <thead>\n",
       "    <tr style=\"text-align: right;\">\n",
       "      <th></th>\n",
       "      <th>paragraph</th>\n",
       "    </tr>\n",
       "  </thead>\n",
       "  <tbody>\n",
       "    <tr>\n",
       "      <th>0</th>\n",
       "      <td>for how we are going to play these different o...</td>\n",
       "    </tr>\n",
       "    <tr>\n",
       "      <th>1</th>\n",
       "      <td>Please confirm your attendance -</td>\n",
       "    </tr>\n",
       "    <tr>\n",
       "      <th>2</th>\n",
       "      <td>Joe/Orlando - if I am missing a key participan...</td>\n",
       "    </tr>\n",
       "    <tr>\n",
       "      <th>3</th>\n",
       "      <td>Rob - can you get someone to make copy of the ...</td>\n",
       "    </tr>\n",
       "    <tr>\n",
       "      <th>4</th>\n",
       "      <td>Yvette - please get a large conference room fo...</td>\n",
       "    </tr>\n",
       "    <tr>\n",
       "      <th>...</th>\n",
       "      <td>...</td>\n",
       "    </tr>\n",
       "    <tr>\n",
       "      <th>61189</th>\n",
       "      <td>\\tTana Jones\\n\\t04/16/2001 03:11 PM\\n\\t\\t \\n\\t...</td>\n",
       "    </tr>\n",
       "    <tr>\n",
       "      <th>61190</th>\n",
       "      <td>Cargill Ferrous International is setup correct...</td>\n",
       "    </tr>\n",
       "    <tr>\n",
       "      <th>61191</th>\n",
       "      <td>Also, the Global SAP team (Cheryl Johnson) wou...</td>\n",
       "    </tr>\n",
       "    <tr>\n",
       "      <th>61192</th>\n",
       "      <td>Best Rgds.</td>\n",
       "    </tr>\n",
       "    <tr>\n",
       "      <th>61193</th>\n",
       "      <td>Samuel x3-9890 (GCP)\\nEnron Net Works _ Global...</td>\n",
       "    </tr>\n",
       "  </tbody>\n",
       "</table>\n",
       "<p>61194 rows × 1 columns</p>\n",
       "</div>\n",
       "      <button class=\"colab-df-convert\" onclick=\"convertToInteractive('df-4519dcd8-c688-43f4-9a50-eab6a73bffcc')\"\n",
       "              title=\"Convert this dataframe to an interactive table.\"\n",
       "              style=\"display:none;\">\n",
       "        \n",
       "  <svg xmlns=\"http://www.w3.org/2000/svg\" height=\"24px\"viewBox=\"0 0 24 24\"\n",
       "       width=\"24px\">\n",
       "    <path d=\"M0 0h24v24H0V0z\" fill=\"none\"/>\n",
       "    <path d=\"M18.56 5.44l.94 2.06.94-2.06 2.06-.94-2.06-.94-.94-2.06-.94 2.06-2.06.94zm-11 1L8.5 8.5l.94-2.06 2.06-.94-2.06-.94L8.5 2.5l-.94 2.06-2.06.94zm10 10l.94 2.06.94-2.06 2.06-.94-2.06-.94-.94-2.06-.94 2.06-2.06.94z\"/><path d=\"M17.41 7.96l-1.37-1.37c-.4-.4-.92-.59-1.43-.59-.52 0-1.04.2-1.43.59L10.3 9.45l-7.72 7.72c-.78.78-.78 2.05 0 2.83L4 21.41c.39.39.9.59 1.41.59.51 0 1.02-.2 1.41-.59l7.78-7.78 2.81-2.81c.8-.78.8-2.07 0-2.86zM5.41 20L4 18.59l7.72-7.72 1.47 1.35L5.41 20z\"/>\n",
       "  </svg>\n",
       "      </button>\n",
       "      \n",
       "  <style>\n",
       "    .colab-df-container {\n",
       "      display:flex;\n",
       "      flex-wrap:wrap;\n",
       "      gap: 12px;\n",
       "    }\n",
       "\n",
       "    .colab-df-convert {\n",
       "      background-color: #E8F0FE;\n",
       "      border: none;\n",
       "      border-radius: 50%;\n",
       "      cursor: pointer;\n",
       "      display: none;\n",
       "      fill: #1967D2;\n",
       "      height: 32px;\n",
       "      padding: 0 0 0 0;\n",
       "      width: 32px;\n",
       "    }\n",
       "\n",
       "    .colab-df-convert:hover {\n",
       "      background-color: #E2EBFA;\n",
       "      box-shadow: 0px 1px 2px rgba(60, 64, 67, 0.3), 0px 1px 3px 1px rgba(60, 64, 67, 0.15);\n",
       "      fill: #174EA6;\n",
       "    }\n",
       "\n",
       "    [theme=dark] .colab-df-convert {\n",
       "      background-color: #3B4455;\n",
       "      fill: #D2E3FC;\n",
       "    }\n",
       "\n",
       "    [theme=dark] .colab-df-convert:hover {\n",
       "      background-color: #434B5C;\n",
       "      box-shadow: 0px 1px 3px 1px rgba(0, 0, 0, 0.15);\n",
       "      filter: drop-shadow(0px 1px 2px rgba(0, 0, 0, 0.3));\n",
       "      fill: #FFFFFF;\n",
       "    }\n",
       "  </style>\n",
       "\n",
       "      <script>\n",
       "        const buttonEl =\n",
       "          document.querySelector('#df-4519dcd8-c688-43f4-9a50-eab6a73bffcc button.colab-df-convert');\n",
       "        buttonEl.style.display =\n",
       "          google.colab.kernel.accessAllowed ? 'block' : 'none';\n",
       "\n",
       "        async function convertToInteractive(key) {\n",
       "          const element = document.querySelector('#df-4519dcd8-c688-43f4-9a50-eab6a73bffcc');\n",
       "          const dataTable =\n",
       "            await google.colab.kernel.invokeFunction('convertToInteractive',\n",
       "                                                     [key], {});\n",
       "          if (!dataTable) return;\n",
       "\n",
       "          const docLinkHtml = 'Like what you see? Visit the ' +\n",
       "            '<a target=\"_blank\" href=https://colab.research.google.com/notebooks/data_table.ipynb>data table notebook</a>'\n",
       "            + ' to learn more about interactive tables.';\n",
       "          element.innerHTML = '';\n",
       "          dataTable['output_type'] = 'display_data';\n",
       "          await google.colab.output.renderOutput(dataTable, element);\n",
       "          const docLink = document.createElement('div');\n",
       "          docLink.innerHTML = docLinkHtml;\n",
       "          element.appendChild(docLink);\n",
       "        }\n",
       "      </script>\n",
       "    </div>\n",
       "  </div>\n",
       "  "
      ],
      "text/plain": [
       "                                               paragraph\n",
       "0      for how we are going to play these different o...\n",
       "1                     Please confirm your attendance -  \n",
       "2      Joe/Orlando - if I am missing a key participan...\n",
       "3      Rob - can you get someone to make copy of the ...\n",
       "4      Yvette - please get a large conference room fo...\n",
       "...                                                  ...\n",
       "61189  \\tTana Jones\\n\\t04/16/2001 03:11 PM\\n\\t\\t \\n\\t...\n",
       "61190  Cargill Ferrous International is setup correct...\n",
       "61191  Also, the Global SAP team (Cheryl Johnson) wou...\n",
       "61192                                         Best Rgds.\n",
       "61193  Samuel x3-9890 (GCP)\\nEnron Net Works _ Global...\n",
       "\n",
       "[61194 rows x 1 columns]"
      ]
     },
     "execution_count": 6,
     "metadata": {},
     "output_type": "execute_result"
    }
   ],
   "source": [
    "test_data"
   ]
  },
  {
   "cell_type": "markdown",
   "id": "08e94c85",
   "metadata": {
    "id": "08e94c85"
   },
   "source": [
    "## Data preprocessing "
   ]
  },
  {
   "cell_type": "code",
   "execution_count": 7,
   "id": "4311e704",
   "metadata": {
    "id": "4311e704"
   },
   "outputs": [],
   "source": [
    "def preprocess(document):\n",
    "    # Convert to lowercase\n",
    "    text = document.lower()\n",
    "    # Remove URLs and email addresses and punct and non-alpha\n",
    "    text = re.sub(r'[^a-zA-Z\\s]', '', text)\n",
    "    text = re.sub(r'http\\S+|https\\S+|\\W+|\\s{2,}', lambda m: ' ' if m.group().isspace() else '', text)\n",
    "    return text"
   ]
  },
  {
   "cell_type": "code",
   "execution_count": 8,
   "id": "488ca190",
   "metadata": {
    "id": "488ca190"
   },
   "outputs": [],
   "source": [
    "import copy\n",
    "train_preprocessed_data = copy.deepcopy(train_data)\n",
    "train_preprocessed_data.paragraph=train_preprocessed_data.paragraph.apply(preprocess)"
   ]
  },
  {
   "cell_type": "code",
   "execution_count": 9,
   "id": "9e8c875e",
   "metadata": {
    "colab": {
     "base_uri": "https://localhost:8080/",
     "height": 36
    },
    "id": "9e8c875e",
    "outputId": "8d3c9ffe-ac6d-41a0-eb1b-472b908dab43"
   },
   "outputs": [
    {
     "data": {
      "application/vnd.google.colaboratory.intrinsic+json": {
       "type": "string"
      },
      "text/plain": [
       "'Enron-admin@FSDDataSvc.com on 09/06/2000 10:12:33 AM\\nExecutive Impact & Influence Program\\n* IMMEDIATE ACTION REQUIRED - Do Not Delete *'"
      ]
     },
     "execution_count": 9,
     "metadata": {},
     "output_type": "execute_result"
    }
   ],
   "source": [
    "train_data.paragraph[5]"
   ]
  },
  {
   "cell_type": "code",
   "execution_count": 10,
   "id": "e5245552",
   "metadata": {
    "colab": {
     "base_uri": "https://localhost:8080/",
     "height": 36
    },
    "id": "e5245552",
    "outputId": "8e3283dd-0019-44c0-c8e6-d0499e1a1e7d"
   },
   "outputs": [
    {
     "data": {
      "application/vnd.google.colaboratory.intrinsic+json": {
       "type": "string"
      },
      "text/plain": [
       "'enronadminfsddatasvccom on am executive impact influence program immediate action required do not delete '"
      ]
     },
     "execution_count": 10,
     "metadata": {},
     "output_type": "execute_result"
    }
   ],
   "source": [
    "train_preprocessed_data.paragraph[5]"
   ]
  },
  {
   "cell_type": "code",
   "execution_count": 11,
   "id": "3552eae6",
   "metadata": {
    "id": "3552eae6"
   },
   "outputs": [],
   "source": [
    "test_preprocessed_data = copy.deepcopy(test_data)\n",
    "test_preprocessed_data.paragraph=test_preprocessed_data.paragraph.apply(preprocess)"
   ]
  },
  {
   "cell_type": "code",
   "execution_count": 12,
   "id": "dfb0ca0d",
   "metadata": {
    "colab": {
     "base_uri": "https://localhost:8080/",
     "height": 423
    },
    "id": "dfb0ca0d",
    "outputId": "6a6d376a-ee70-4f78-c9f8-6a326e076e7f"
   },
   "outputs": [
    {
     "data": {
      "text/html": [
       "\n",
       "  <div id=\"df-8b1af446-23d1-4132-9567-458408796ea0\">\n",
       "    <div class=\"colab-df-container\">\n",
       "      <div>\n",
       "<style scoped>\n",
       "    .dataframe tbody tr th:only-of-type {\n",
       "        vertical-align: middle;\n",
       "    }\n",
       "\n",
       "    .dataframe tbody tr th {\n",
       "        vertical-align: top;\n",
       "    }\n",
       "\n",
       "    .dataframe thead th {\n",
       "        text-align: right;\n",
       "    }\n",
       "</style>\n",
       "<table border=\"1\" class=\"dataframe\">\n",
       "  <thead>\n",
       "    <tr style=\"text-align: right;\">\n",
       "      <th></th>\n",
       "      <th>paragraph</th>\n",
       "    </tr>\n",
       "  </thead>\n",
       "  <tbody>\n",
       "    <tr>\n",
       "      <th>0</th>\n",
       "      <td>for how we are going to play these different o...</td>\n",
       "    </tr>\n",
       "    <tr>\n",
       "      <th>1</th>\n",
       "      <td>please confirm your attendance</td>\n",
       "    </tr>\n",
       "    <tr>\n",
       "      <th>2</th>\n",
       "      <td>joeorlando if i am missing a key participant p...</td>\n",
       "    </tr>\n",
       "    <tr>\n",
       "      <th>3</th>\n",
       "      <td>rob can you get someone to make copy of the pp...</td>\n",
       "    </tr>\n",
       "    <tr>\n",
       "      <th>4</th>\n",
       "      <td>yvette please get a large conference room for ...</td>\n",
       "    </tr>\n",
       "    <tr>\n",
       "      <th>...</th>\n",
       "      <td>...</td>\n",
       "    </tr>\n",
       "    <tr>\n",
       "      <th>61189</th>\n",
       "      <td>tana jones pm samuel schott pm fyi</td>\n",
       "    </tr>\n",
       "    <tr>\n",
       "      <th>61190</th>\n",
       "      <td>cargill ferrous international is setup correct...</td>\n",
       "    </tr>\n",
       "    <tr>\n",
       "      <th>61191</th>\n",
       "      <td>also the global sap team cheryl johnson would ...</td>\n",
       "    </tr>\n",
       "    <tr>\n",
       "      <th>61192</th>\n",
       "      <td>best rgds</td>\n",
       "    </tr>\n",
       "    <tr>\n",
       "      <th>61193</th>\n",
       "      <td>samuel x gcp enron net works global data manag...</td>\n",
       "    </tr>\n",
       "  </tbody>\n",
       "</table>\n",
       "<p>61194 rows × 1 columns</p>\n",
       "</div>\n",
       "      <button class=\"colab-df-convert\" onclick=\"convertToInteractive('df-8b1af446-23d1-4132-9567-458408796ea0')\"\n",
       "              title=\"Convert this dataframe to an interactive table.\"\n",
       "              style=\"display:none;\">\n",
       "        \n",
       "  <svg xmlns=\"http://www.w3.org/2000/svg\" height=\"24px\"viewBox=\"0 0 24 24\"\n",
       "       width=\"24px\">\n",
       "    <path d=\"M0 0h24v24H0V0z\" fill=\"none\"/>\n",
       "    <path d=\"M18.56 5.44l.94 2.06.94-2.06 2.06-.94-2.06-.94-.94-2.06-.94 2.06-2.06.94zm-11 1L8.5 8.5l.94-2.06 2.06-.94-2.06-.94L8.5 2.5l-.94 2.06-2.06.94zm10 10l.94 2.06.94-2.06 2.06-.94-2.06-.94-.94-2.06-.94 2.06-2.06.94z\"/><path d=\"M17.41 7.96l-1.37-1.37c-.4-.4-.92-.59-1.43-.59-.52 0-1.04.2-1.43.59L10.3 9.45l-7.72 7.72c-.78.78-.78 2.05 0 2.83L4 21.41c.39.39.9.59 1.41.59.51 0 1.02-.2 1.41-.59l7.78-7.78 2.81-2.81c.8-.78.8-2.07 0-2.86zM5.41 20L4 18.59l7.72-7.72 1.47 1.35L5.41 20z\"/>\n",
       "  </svg>\n",
       "      </button>\n",
       "      \n",
       "  <style>\n",
       "    .colab-df-container {\n",
       "      display:flex;\n",
       "      flex-wrap:wrap;\n",
       "      gap: 12px;\n",
       "    }\n",
       "\n",
       "    .colab-df-convert {\n",
       "      background-color: #E8F0FE;\n",
       "      border: none;\n",
       "      border-radius: 50%;\n",
       "      cursor: pointer;\n",
       "      display: none;\n",
       "      fill: #1967D2;\n",
       "      height: 32px;\n",
       "      padding: 0 0 0 0;\n",
       "      width: 32px;\n",
       "    }\n",
       "\n",
       "    .colab-df-convert:hover {\n",
       "      background-color: #E2EBFA;\n",
       "      box-shadow: 0px 1px 2px rgba(60, 64, 67, 0.3), 0px 1px 3px 1px rgba(60, 64, 67, 0.15);\n",
       "      fill: #174EA6;\n",
       "    }\n",
       "\n",
       "    [theme=dark] .colab-df-convert {\n",
       "      background-color: #3B4455;\n",
       "      fill: #D2E3FC;\n",
       "    }\n",
       "\n",
       "    [theme=dark] .colab-df-convert:hover {\n",
       "      background-color: #434B5C;\n",
       "      box-shadow: 0px 1px 3px 1px rgba(0, 0, 0, 0.15);\n",
       "      filter: drop-shadow(0px 1px 2px rgba(0, 0, 0, 0.3));\n",
       "      fill: #FFFFFF;\n",
       "    }\n",
       "  </style>\n",
       "\n",
       "      <script>\n",
       "        const buttonEl =\n",
       "          document.querySelector('#df-8b1af446-23d1-4132-9567-458408796ea0 button.colab-df-convert');\n",
       "        buttonEl.style.display =\n",
       "          google.colab.kernel.accessAllowed ? 'block' : 'none';\n",
       "\n",
       "        async function convertToInteractive(key) {\n",
       "          const element = document.querySelector('#df-8b1af446-23d1-4132-9567-458408796ea0');\n",
       "          const dataTable =\n",
       "            await google.colab.kernel.invokeFunction('convertToInteractive',\n",
       "                                                     [key], {});\n",
       "          if (!dataTable) return;\n",
       "\n",
       "          const docLinkHtml = 'Like what you see? Visit the ' +\n",
       "            '<a target=\"_blank\" href=https://colab.research.google.com/notebooks/data_table.ipynb>data table notebook</a>'\n",
       "            + ' to learn more about interactive tables.';\n",
       "          element.innerHTML = '';\n",
       "          dataTable['output_type'] = 'display_data';\n",
       "          await google.colab.output.renderOutput(dataTable, element);\n",
       "          const docLink = document.createElement('div');\n",
       "          docLink.innerHTML = docLinkHtml;\n",
       "          element.appendChild(docLink);\n",
       "        }\n",
       "      </script>\n",
       "    </div>\n",
       "  </div>\n",
       "  "
      ],
      "text/plain": [
       "                                               paragraph\n",
       "0      for how we are going to play these different o...\n",
       "1                        please confirm your attendance \n",
       "2      joeorlando if i am missing a key participant p...\n",
       "3      rob can you get someone to make copy of the pp...\n",
       "4      yvette please get a large conference room for ...\n",
       "...                                                  ...\n",
       "61189                 tana jones pm samuel schott pm fyi\n",
       "61190  cargill ferrous international is setup correct...\n",
       "61191  also the global sap team cheryl johnson would ...\n",
       "61192                                          best rgds\n",
       "61193  samuel x gcp enron net works global data manag...\n",
       "\n",
       "[61194 rows x 1 columns]"
      ]
     },
     "execution_count": 12,
     "metadata": {},
     "output_type": "execute_result"
    }
   ],
   "source": [
    "test_preprocessed_data"
   ]
  },
  {
   "cell_type": "markdown",
   "id": "Glczx61jGZLG",
   "metadata": {
    "id": "Glczx61jGZLG"
   },
   "source": [
    "## Split Data to (samples,Timesteps)"
   ]
  },
  {
   "cell_type": "code",
   "execution_count": 13,
   "id": "d54ff60a",
   "metadata": {
    "id": "d54ff60a"
   },
   "outputs": [],
   "source": [
    "def timeSteps(paragraph, timestep):\n",
    "    sequences = []\n",
    "    words = paragraph.split()\n",
    "    for i in range(len(words) - timestep):\n",
    "        seq = words[i:i + timestep]          \n",
    "        sequences.append(seq)\n",
    "    return sequences "
   ]
  },
  {
   "cell_type": "code",
   "execution_count": 14,
   "id": "baf666b0",
   "metadata": {
    "colab": {
     "base_uri": "https://localhost:8080/"
    },
    "id": "baf666b0",
    "outputId": "1181547e-5817-4c55-ad79-0c7b95b23abd"
   },
   "outputs": [
    {
     "data": {
      "text/plain": [
       "(89662, 15)"
      ]
     },
     "execution_count": 14,
     "metadata": {},
     "output_type": "execute_result"
    }
   ],
   "source": [
    "timestep = 15\n",
    "sequences = []\n",
    "\n",
    "for index, row in train_preprocessed_data[40000:46000].iterrows():\n",
    "    paragraph = row['paragraph']\n",
    "    seqs= timeSteps(paragraph, timestep)\n",
    "    sequences.extend(seqs)\n",
    "\n",
    "dtrain=np.array(sequences)\n",
    "dtrain.shape"
   ]
  },
  {
   "cell_type": "code",
   "execution_count": 15,
   "id": "a21cf4ce",
   "metadata": {
    "colab": {
     "base_uri": "https://localhost:8080/"
    },
    "id": "a21cf4ce",
    "outputId": "57083d01-955a-40ed-f518-25b9939a9c2a"
   },
   "outputs": [
    {
     "data": {
      "text/plain": [
       "(20092, 15)"
      ]
     },
     "execution_count": 15,
     "metadata": {},
     "output_type": "execute_result"
    }
   ],
   "source": [
    "timestep = 15\n",
    "sequences = []\n",
    "\n",
    "for index, row in test_preprocessed_data[:2000].iterrows():\n",
    "    paragraph = row['paragraph']\n",
    "    seqs = timeSteps(paragraph, timestep)\n",
    "    sequences.extend(seqs)\n",
    "\n",
    "dtest = np.array(sequences)\n",
    "dtest.shape"
   ]
  },
  {
   "cell_type": "markdown",
   "id": "ub7WPg7kGkuH",
   "metadata": {
    "id": "ub7WPg7kGkuH"
   },
   "source": [
    "## Spliting the label from the data and apply Word2Vec "
   ]
  },
  {
   "cell_type": "code",
   "execution_count": 16,
   "id": "MwFyaXOdejL3",
   "metadata": {
    "id": "MwFyaXOdejL3"
   },
   "outputs": [],
   "source": [
    "train_input_sequences = []\n",
    "train_labels = []\n",
    "\n",
    "for row in dtrain:\n",
    "    train_input_sequences.append(' '.join(row[:-1]))  \n",
    "    train_labels.append(row[-1])  \n",
    "\n",
    "test_input_sequences = []\n",
    "test_labels = []\n",
    "\n",
    "for row in dtest:\n",
    "    test_input_sequences.append(' '.join(row[:-1]))  \n",
    "    test_labels.append(row[-1]) \n",
    "\n",
    "tokenizer = Tokenizer()\n",
    "tokenizer.fit_on_texts(train_input_sequences)\n",
    "train_input_sequences = tokenizer.texts_to_sequences(train_input_sequences)\n",
    "test_input_sequences = tokenizer.texts_to_sequences(test_input_sequences)\n",
    "\n",
    "max_sequence_length = max(len(seq) for seq in train_input_sequences)\n",
    "train_input_data = pad_sequences(train_input_sequences, maxlen=max_sequence_length)\n",
    "test_input_data = pad_sequences(test_input_sequences, maxlen=max_sequence_length)\n",
    "\n",
    "Word2Vec_model = Word2Vec(sentences=train_input_sequences, vector_size=300, window=5, min_count=1, workers=4)\n",
    "vocabulary_size = len(tokenizer.word_index) + 1\n",
    "\n",
    "# convert label data to onehot\n",
    "train_label_data = np.array(train_labels)\n",
    "test_label_data = np.array(test_labels)\n",
    "\n",
    "label_tokenizer = Tokenizer()\n",
    "label_tokenizer.fit_on_texts(train_label_data)\n",
    "train_label_sequences = label_tokenizer.texts_to_sequences(train_label_data)\n",
    "test_label_sequences = label_tokenizer.texts_to_sequences(test_label_data)\n",
    "num_classes = len(label_tokenizer.word_index) + 1\n",
    "\n",
    "train_label_data = np.zeros((len(train_label_sequences), num_classes))\n",
    "test_label_data = np.zeros((len(test_label_sequences), num_classes))\n",
    "\n",
    "for i, seq in enumerate(train_label_sequences):\n",
    "    train_label_data[i, seq] = 1\n",
    "\n",
    "for i, seq in enumerate(test_label_sequences):\n",
    "    test_label_data[i, seq] = 1"
   ]
  },
  {
   "cell_type": "markdown",
   "id": "mIw4FEmWHAWx",
   "metadata": {
    "id": "mIw4FEmWHAWx"
   },
   "source": [
    "## LSTM Model"
   ]
  },
  {
   "cell_type": "code",
   "execution_count": 17,
   "id": "82gymS5Ohzrn",
   "metadata": {
    "id": "82gymS5Ohzrn"
   },
   "outputs": [],
   "source": [
    "vocabulary_size = len(tokenizer.word_index) + 1\n",
    "embedding_matrix = np.zeros((vocabulary_size, 300))\n",
    "for word, i in tokenizer.word_index.items():\n",
    "    if word in Word2Vec_model.wv:\n",
    "        embedding_matrix[i] = Word2Vec_model.wv[word]"
   ]
  },
  {
   "cell_type": "code",
   "execution_count": null,
   "id": "ErEFk76vh0SP",
   "metadata": {
    "colab": {
     "base_uri": "https://localhost:8080/"
    },
    "id": "ErEFk76vh0SP",
    "outputId": "cc5f7ccd-5acc-4a3d-d6de-7eec5eb8c67d"
   },
   "outputs": [
    {
     "name": "stdout",
     "output_type": "stream",
     "text": [
      "Model: \"sequential\"\n",
      "_________________________________________________________________\n",
      " Layer (type)                Output Shape              Param #   \n",
      "=================================================================\n",
      " embedding (Embedding)       (None, 14, 300)           2712900   \n",
      "                                                                 \n",
      " lstm (LSTM)                 (None, 512)               1665024   \n",
      "                                                                 \n",
      " dense (Dense)               (None, 7568)              3882384   \n",
      "                                                                 \n",
      "=================================================================\n",
      "Total params: 8,260,308\n",
      "Trainable params: 8,260,308\n",
      "Non-trainable params: 0\n",
      "_________________________________________________________________\n",
      "Epoch 1/100\n",
      "176/176 [==============================] - 46s 219ms/step - loss: 6.9278 - accuracy: 0.0524 - val_loss: 5.8254 - val_accuracy: 0.0641\n",
      "Epoch 2/100\n",
      "176/176 [==============================] - 20s 113ms/step - loss: 6.4517 - accuracy: 0.0752 - val_loss: 5.6291 - val_accuracy: 0.0769\n",
      "Epoch 3/100\n",
      "176/176 [==============================] - 12s 66ms/step - loss: 6.0828 - accuracy: 0.1000 - val_loss: 5.4764 - val_accuracy: 0.1009\n",
      "Epoch 4/100\n",
      "176/176 [==============================] - 10s 58ms/step - loss: 5.7226 - accuracy: 0.1265 - val_loss: 5.3934 - val_accuracy: 0.1147\n",
      "Epoch 5/100\n",
      "176/176 [==============================] - 11s 60ms/step - loss: 5.3883 - accuracy: 0.1486 - val_loss: 5.3856 - val_accuracy: 0.1229\n",
      "Epoch 6/100\n",
      "176/176 [==============================] - 10s 59ms/step - loss: 5.0701 - accuracy: 0.1726 - val_loss: 5.4106 - val_accuracy: 0.1251\n",
      "Epoch 7/100\n",
      "176/176 [==============================] - 9s 52ms/step - loss: 4.7623 - accuracy: 0.1950 - val_loss: 5.4705 - val_accuracy: 0.1259\n",
      "Epoch 8/100\n",
      "176/176 [==============================] - 9s 50ms/step - loss: 4.4643 - accuracy: 0.2221 - val_loss: 5.5085 - val_accuracy: 0.1257\n",
      "Epoch 9/100\n",
      "176/176 [==============================] - 9s 53ms/step - loss: 4.1738 - accuracy: 0.2511 - val_loss: 5.5750 - val_accuracy: 0.1271\n",
      "Epoch 10/100\n",
      "176/176 [==============================] - 9s 53ms/step - loss: 3.9031 - accuracy: 0.2823 - val_loss: 5.6399 - val_accuracy: 0.1298\n",
      "Epoch 11/100\n",
      "176/176 [==============================] - 9s 52ms/step - loss: 3.6465 - accuracy: 0.3143 - val_loss: 5.7012 - val_accuracy: 0.1262\n",
      "Epoch 12/100\n",
      "176/176 [==============================] - 9s 48ms/step - loss: 3.4112 - accuracy: 0.3480 - val_loss: 5.7835 - val_accuracy: 0.1288\n",
      "Epoch 13/100\n",
      "176/176 [==============================] - 9s 49ms/step - loss: 3.1906 - accuracy: 0.3812 - val_loss: 5.8552 - val_accuracy: 0.1266\n",
      "Epoch 14/100\n",
      "176/176 [==============================] - 10s 55ms/step - loss: 2.9879 - accuracy: 0.4133 - val_loss: 5.9347 - val_accuracy: 0.1299\n",
      "Epoch 15/100\n",
      "176/176 [==============================] - 9s 54ms/step - loss: 2.7993 - accuracy: 0.4458 - val_loss: 6.0029 - val_accuracy: 0.1229\n",
      "Epoch 16/100\n",
      "176/176 [==============================] - 8s 47ms/step - loss: 2.6295 - accuracy: 0.4737 - val_loss: 6.0766 - val_accuracy: 0.1273\n",
      "Epoch 17/100\n",
      "176/176 [==============================] - 9s 51ms/step - loss: 2.4647 - accuracy: 0.5034 - val_loss: 6.1512 - val_accuracy: 0.1242\n",
      "Epoch 18/100\n",
      "176/176 [==============================] - 8s 47ms/step - loss: 2.3135 - accuracy: 0.5317 - val_loss: 6.2301 - val_accuracy: 0.1227\n",
      "Epoch 19/100\n",
      "176/176 [==============================] - 9s 50ms/step - loss: 2.1734 - accuracy: 0.5593 - val_loss: 6.2948 - val_accuracy: 0.1207\n",
      "Epoch 20/100\n",
      "176/176 [==============================] - 9s 52ms/step - loss: 2.0359 - accuracy: 0.5842 - val_loss: 6.3890 - val_accuracy: 0.1138\n",
      "Epoch 21/100\n",
      "176/176 [==============================] - 8s 46ms/step - loss: 1.9096 - accuracy: 0.6087 - val_loss: 6.4668 - val_accuracy: 0.1178\n",
      "Epoch 22/100\n",
      "176/176 [==============================] - 8s 45ms/step - loss: 1.7868 - accuracy: 0.6336 - val_loss: 6.5535 - val_accuracy: 0.1140\n",
      "Epoch 23/100\n",
      "176/176 [==============================] - 9s 51ms/step - loss: 1.6750 - accuracy: 0.6574 - val_loss: 6.6303 - val_accuracy: 0.1141\n",
      "Epoch 24/100\n",
      "176/176 [==============================] - 9s 51ms/step - loss: 1.5652 - accuracy: 0.6794 - val_loss: 6.6959 - val_accuracy: 0.1149\n",
      "Epoch 25/100\n",
      "176/176 [==============================] - 9s 49ms/step - loss: 1.4611 - accuracy: 0.7012 - val_loss: 6.7751 - val_accuracy: 0.1119\n",
      "Epoch 26/100\n",
      "176/176 [==============================] - 9s 49ms/step - loss: 1.3596 - accuracy: 0.7240 - val_loss: 6.8599 - val_accuracy: 0.1122\n",
      "Epoch 27/100\n",
      "176/176 [==============================] - 8s 48ms/step - loss: 1.2638 - accuracy: 0.7456 - val_loss: 6.9672 - val_accuracy: 0.1101\n",
      "Epoch 28/100\n",
      "176/176 [==============================] - 8s 48ms/step - loss: 1.1741 - accuracy: 0.7662 - val_loss: 7.0420 - val_accuracy: 0.1091\n",
      "Epoch 29/100\n",
      "176/176 [==============================] - 9s 49ms/step - loss: 1.0873 - accuracy: 0.7861 - val_loss: 7.1233 - val_accuracy: 0.1099\n",
      "Epoch 30/100\n",
      "176/176 [==============================] - 9s 49ms/step - loss: 1.0074 - accuracy: 0.8029 - val_loss: 7.2139 - val_accuracy: 0.1071\n",
      "Epoch 31/100\n",
      "176/176 [==============================] - 8s 46ms/step - loss: 0.9277 - accuracy: 0.8212 - val_loss: 7.2851 - val_accuracy: 0.1063\n",
      "Epoch 32/100\n",
      "176/176 [==============================] - 8s 44ms/step - loss: 0.8552 - accuracy: 0.8382 - val_loss: 7.3896 - val_accuracy: 0.1066\n",
      "Epoch 33/100\n",
      "176/176 [==============================] - 8s 45ms/step - loss: 0.7853 - accuracy: 0.8535 - val_loss: 7.4756 - val_accuracy: 0.1050\n",
      "Epoch 34/100\n",
      "176/176 [==============================] - 8s 46ms/step - loss: 0.7180 - accuracy: 0.8699 - val_loss: 7.5622 - val_accuracy: 0.1015\n",
      "Epoch 35/100\n",
      "176/176 [==============================] - 8s 45ms/step - loss: 0.6550 - accuracy: 0.8843 - val_loss: 7.6671 - val_accuracy: 0.1009\n",
      "Epoch 36/100\n",
      "176/176 [==============================] - 9s 53ms/step - loss: 0.5996 - accuracy: 0.8957 - val_loss: 7.7423 - val_accuracy: 0.1004\n",
      "Epoch 37/100\n",
      "176/176 [==============================] - 8s 45ms/step - loss: 0.5423 - accuracy: 0.9091 - val_loss: 7.8255 - val_accuracy: 0.1010\n",
      "Epoch 38/100\n",
      "176/176 [==============================] - 8s 45ms/step - loss: 0.4943 - accuracy: 0.9194 - val_loss: 7.9052 - val_accuracy: 0.1012\n",
      "Epoch 39/100\n",
      "176/176 [==============================] - 8s 45ms/step - loss: 0.4460 - accuracy: 0.9303 - val_loss: 7.9981 - val_accuracy: 0.0993\n",
      "Epoch 40/100\n",
      "176/176 [==============================] - 8s 44ms/step - loss: 0.4023 - accuracy: 0.9396 - val_loss: 8.0884 - val_accuracy: 0.1002\n",
      "Epoch 41/100\n",
      "176/176 [==============================] - 8s 44ms/step - loss: 0.3644 - accuracy: 0.9480 - val_loss: 8.1795 - val_accuracy: 0.1014\n",
      "Epoch 42/100\n",
      "176/176 [==============================] - 8s 48ms/step - loss: 0.3264 - accuracy: 0.9557 - val_loss: 8.2793 - val_accuracy: 0.0972\n",
      "Epoch 43/100\n",
      "176/176 [==============================] - 8s 44ms/step - loss: 0.2909 - accuracy: 0.9634 - val_loss: 8.3580 - val_accuracy: 0.0976\n",
      "Epoch 44/100\n",
      "176/176 [==============================] - 8s 48ms/step - loss: 0.2636 - accuracy: 0.9682 - val_loss: 8.4333 - val_accuracy: 0.0945\n",
      "Epoch 45/100\n",
      "176/176 [==============================] - 8s 47ms/step - loss: 0.2333 - accuracy: 0.9742 - val_loss: 8.5220 - val_accuracy: 0.0948\n",
      "Epoch 46/100\n",
      "176/176 [==============================] - 8s 47ms/step - loss: 0.2053 - accuracy: 0.9792 - val_loss: 8.6025 - val_accuracy: 0.0952\n",
      "Epoch 47/100\n",
      "176/176 [==============================] - 8s 45ms/step - loss: 0.1847 - accuracy: 0.9826 - val_loss: 8.6858 - val_accuracy: 0.0959\n",
      "Epoch 48/100\n",
      "176/176 [==============================] - 8s 46ms/step - loss: 0.1607 - accuracy: 0.9865 - val_loss: 8.7529 - val_accuracy: 0.0948\n",
      "Epoch 49/100\n",
      "176/176 [==============================] - 9s 49ms/step - loss: 0.1463 - accuracy: 0.9881 - val_loss: 8.8432 - val_accuracy: 0.0937\n",
      "Epoch 50/100\n",
      "176/176 [==============================] - 8s 47ms/step - loss: 0.1264 - accuracy: 0.9911 - val_loss: 8.9119 - val_accuracy: 0.0939\n",
      "Epoch 51/100\n",
      "176/176 [==============================] - 8s 48ms/step - loss: 0.1112 - accuracy: 0.9931 - val_loss: 8.9925 - val_accuracy: 0.0940\n",
      "Epoch 52/100\n",
      "176/176 [==============================] - 8s 44ms/step - loss: 0.1016 - accuracy: 0.9942 - val_loss: 9.0504 - val_accuracy: 0.0940\n",
      "Epoch 53/100\n",
      "176/176 [==============================] - 8s 47ms/step - loss: 0.0889 - accuracy: 0.9952 - val_loss: 9.1410 - val_accuracy: 0.0917\n",
      "Epoch 54/100\n",
      "176/176 [==============================] - 8s 47ms/step - loss: 0.0800 - accuracy: 0.9961 - val_loss: 9.1981 - val_accuracy: 0.0955\n",
      "Epoch 55/100\n",
      "176/176 [==============================] - 8s 44ms/step - loss: 0.0764 - accuracy: 0.9962 - val_loss: 9.2809 - val_accuracy: 0.0921\n",
      "Epoch 56/100\n",
      "176/176 [==============================] - 8s 45ms/step - loss: 0.1006 - accuracy: 0.9933 - val_loss: 9.3350 - val_accuracy: 0.0935\n",
      "Epoch 57/100\n",
      "176/176 [==============================] - 8s 47ms/step - loss: 0.1131 - accuracy: 0.9903 - val_loss: 9.4206 - val_accuracy: 0.0951\n",
      "Epoch 58/100\n",
      "176/176 [==============================] - 8s 43ms/step - loss: 0.0881 - accuracy: 0.9943 - val_loss: 9.5089 - val_accuracy: 0.0943\n",
      "Epoch 59/100\n",
      "176/176 [==============================] - 8s 48ms/step - loss: 0.0573 - accuracy: 0.9976 - val_loss: 9.5649 - val_accuracy: 0.0956\n",
      "Epoch 60/100\n",
      "176/176 [==============================] - 9s 50ms/step - loss: 0.0390 - accuracy: 0.9985 - val_loss: 9.6192 - val_accuracy: 0.0948\n",
      "Epoch 61/100\n",
      "176/176 [==============================] - 8s 48ms/step - loss: 0.0318 - accuracy: 0.9987 - val_loss: 9.6906 - val_accuracy: 0.0957\n",
      "Epoch 62/100\n",
      "176/176 [==============================] - 8s 48ms/step - loss: 0.0277 - accuracy: 0.9989 - val_loss: 9.7362 - val_accuracy: 0.0954\n",
      "Epoch 63/100\n",
      "176/176 [==============================] - 8s 45ms/step - loss: 0.0265 - accuracy: 0.9988 - val_loss: 9.7881 - val_accuracy: 0.0941\n",
      "Epoch 64/100\n",
      "176/176 [==============================] - 8s 48ms/step - loss: 0.0232 - accuracy: 0.9988 - val_loss: 9.8437 - val_accuracy: 0.0946\n",
      "Epoch 65/100\n",
      "176/176 [==============================] - 8s 47ms/step - loss: 0.0209 - accuracy: 0.9988 - val_loss: 9.8931 - val_accuracy: 0.0934\n",
      "Epoch 66/100\n",
      "176/176 [==============================] - 8s 44ms/step - loss: 0.0190 - accuracy: 0.9989 - val_loss: 9.9434 - val_accuracy: 0.0921\n",
      "Epoch 67/100\n",
      "176/176 [==============================] - 8s 43ms/step - loss: 0.0174 - accuracy: 0.9989 - val_loss: 9.9884 - val_accuracy: 0.0941\n",
      "Epoch 68/100\n",
      "176/176 [==============================] - 8s 44ms/step - loss: 0.0162 - accuracy: 0.9989 - val_loss: 10.0403 - val_accuracy: 0.0916\n",
      "Epoch 69/100\n",
      "176/176 [==============================] - 8s 43ms/step - loss: 0.0148 - accuracy: 0.9989 - val_loss: 10.0987 - val_accuracy: 0.0924\n",
      "Epoch 70/100\n",
      "176/176 [==============================] - 9s 49ms/step - loss: 0.0138 - accuracy: 0.9989 - val_loss: 10.1479 - val_accuracy: 0.0934\n",
      "Epoch 71/100\n",
      "176/176 [==============================] - 8s 45ms/step - loss: 0.0130 - accuracy: 0.9989 - val_loss: 10.1928 - val_accuracy: 0.0926\n",
      "Epoch 72/100\n",
      "176/176 [==============================] - 8s 47ms/step - loss: 0.0155 - accuracy: 0.9987 - val_loss: 10.2113 - val_accuracy: 0.0908\n",
      "Epoch 73/100\n",
      "176/176 [==============================] - 8s 46ms/step - loss: 0.4082 - accuracy: 0.8938 - val_loss: 10.1268 - val_accuracy: 0.0900\n",
      "Epoch 74/100\n",
      "176/176 [==============================] - 8s 47ms/step - loss: 0.1889 - accuracy: 0.9616 - val_loss: 10.2121 - val_accuracy: 0.0888\n",
      "Epoch 75/100\n",
      "176/176 [==============================] - 8s 43ms/step - loss: 0.0596 - accuracy: 0.9947 - val_loss: 10.2656 - val_accuracy: 0.0917\n",
      "Epoch 76/100\n",
      "176/176 [==============================] - 8s 47ms/step - loss: 0.0272 - accuracy: 0.9986 - val_loss: 10.3232 - val_accuracy: 0.0929\n",
      "Epoch 77/100\n",
      "176/176 [==============================] - 8s 45ms/step - loss: 0.0186 - accuracy: 0.9990 - val_loss: 10.3618 - val_accuracy: 0.0920\n",
      "Epoch 78/100\n",
      "176/176 [==============================] - 8s 44ms/step - loss: 0.0158 - accuracy: 0.9990 - val_loss: 10.3969 - val_accuracy: 0.0924\n",
      "Epoch 79/100\n",
      "176/176 [==============================] - 8s 47ms/step - loss: 0.0141 - accuracy: 0.9989 - val_loss: 10.4253 - val_accuracy: 0.0929\n",
      "Epoch 80/100\n",
      "176/176 [==============================] - 8s 48ms/step - loss: 0.0128 - accuracy: 0.9989 - val_loss: 10.4608 - val_accuracy: 0.0939\n",
      "Epoch 81/100\n",
      "176/176 [==============================] - 8s 46ms/step - loss: 0.0120 - accuracy: 0.9989 - val_loss: 10.4957 - val_accuracy: 0.0940\n",
      "Epoch 82/100\n",
      "176/176 [==============================] - 8s 43ms/step - loss: 0.0112 - accuracy: 0.9989 - val_loss: 10.5246 - val_accuracy: 0.0943\n",
      "Epoch 83/100\n",
      "176/176 [==============================] - 8s 47ms/step - loss: 0.0107 - accuracy: 0.9989 - val_loss: 10.5521 - val_accuracy: 0.0953\n",
      "Epoch 84/100\n",
      "176/176 [==============================] - 8s 44ms/step - loss: 0.0101 - accuracy: 0.9988 - val_loss: 10.5903 - val_accuracy: 0.0951\n",
      "Epoch 85/100\n",
      "176/176 [==============================] - 8s 44ms/step - loss: 0.0094 - accuracy: 0.9990 - val_loss: 10.6266 - val_accuracy: 0.0943\n",
      "Epoch 86/100\n",
      "176/176 [==============================] - 8s 46ms/step - loss: 0.0089 - accuracy: 0.9989 - val_loss: 10.6520 - val_accuracy: 0.0945\n",
      "Epoch 87/100\n",
      "176/176 [==============================] - 8s 43ms/step - loss: 0.0084 - accuracy: 0.9989 - val_loss: 10.6854 - val_accuracy: 0.0949\n",
      "Epoch 88/100\n",
      "176/176 [==============================] - 8s 44ms/step - loss: 0.0082 - accuracy: 0.9989 - val_loss: 10.7175 - val_accuracy: 0.0962\n",
      "Epoch 89/100\n",
      "176/176 [==============================] - 8s 47ms/step - loss: 0.0078 - accuracy: 0.9989 - val_loss: 10.7447 - val_accuracy: 0.0943\n",
      "Epoch 90/100\n",
      "176/176 [==============================] - 8s 48ms/step - loss: 0.0075 - accuracy: 0.9988 - val_loss: 10.7722 - val_accuracy: 0.0950\n",
      "Epoch 91/100\n",
      "176/176 [==============================] - 8s 46ms/step - loss: 0.0071 - accuracy: 0.9989 - val_loss: 10.8138 - val_accuracy: 0.0960\n",
      "Epoch 92/100\n",
      "176/176 [==============================] - 8s 45ms/step - loss: 0.0070 - accuracy: 0.9989 - val_loss: 10.8363 - val_accuracy: 0.0942\n",
      "Epoch 93/100\n",
      "176/176 [==============================] - 8s 44ms/step - loss: 0.0068 - accuracy: 0.9989 - val_loss: 10.8721 - val_accuracy: 0.0953\n",
      "Epoch 94/100\n",
      "176/176 [==============================] - 8s 44ms/step - loss: 0.0064 - accuracy: 0.9988 - val_loss: 10.9100 - val_accuracy: 0.0953\n",
      "Epoch 95/100\n",
      "176/176 [==============================] - 7s 42ms/step - loss: 0.0072 - accuracy: 0.9989 - val_loss: 10.9346 - val_accuracy: 0.0963\n",
      "Epoch 96/100\n",
      "176/176 [==============================] - 8s 48ms/step - loss: 0.2340 - accuracy: 0.9367 - val_loss: 10.8735 - val_accuracy: 0.0903\n",
      "Epoch 97/100\n",
      "176/176 [==============================] - 8s 47ms/step - loss: 0.2049 - accuracy: 0.9501 - val_loss: 10.8943 - val_accuracy: 0.0896\n",
      "Epoch 98/100\n",
      "176/176 [==============================] - 8s 46ms/step - loss: 0.0555 - accuracy: 0.9924 - val_loss: 10.9565 - val_accuracy: 0.0927\n",
      "Epoch 99/100\n",
      "176/176 [==============================] - 8s 43ms/step - loss: 0.0221 - accuracy: 0.9983 - val_loss: 10.9796 - val_accuracy: 0.0960\n",
      "Epoch 100/100\n",
      "176/176 [==============================] - 8s 43ms/step - loss: 0.0131 - accuracy: 0.9988 - val_loss: 11.0197 - val_accuracy: 0.0958\n"
     ]
    },
    {
     "data": {
      "text/plain": [
       "<keras.callbacks.History at 0x7f81b06d2b60>"
      ]
     },
     "execution_count": 18,
     "metadata": {},
     "output_type": "execute_result"
    }
   ],
   "source": [
    "lstm_model = Sequential()\n",
    "lstm_model.add(Embedding(vocabulary_size, 300, weights=[embedding_matrix], input_length=max_sequence_length))\n",
    "lstm_model.add(LSTM(512))\n",
    "lstm_model.add(Dense(num_classes, activation='softmax'))\n",
    "lstm_model.compile(loss='categorical_crossentropy', optimizer='adam', metrics=['accuracy'])\n",
    "lstm_model.summary()\n",
    "\n",
    "lstm_model.fit(train_input_data, train_label_data, epochs=100, batch_size=512,validation_data=(test_input_data, test_label_data))"
   ]
  },
  {
   "cell_type": "code",
   "execution_count": null,
   "id": "57VyndvFYMaY",
   "metadata": {
    "id": "57VyndvFYMaY"
   },
   "outputs": [],
   "source": [
    "lstm_model.save(\"lstm_model.h5\")"
   ]
  },
  {
   "cell_type": "markdown",
   "id": "_7aewrjGHIbI",
   "metadata": {
    "id": "_7aewrjGHIbI"
   },
   "source": [
    "## LSTM Evaluations"
   ]
  },
  {
   "cell_type": "code",
   "execution_count": null,
   "id": "uVsb6qcRc5vX",
   "metadata": {
    "colab": {
     "base_uri": "https://localhost:8080/"
    },
    "id": "uVsb6qcRc5vX",
    "outputId": "f2516d3d-b8b9-4247-bb96-240c85d227e5"
   },
   "outputs": [
    {
     "name": "stdout",
     "output_type": "stream",
     "text": [
      "628/628 [==============================] - 3s 5ms/step - loss: 11.0197 - accuracy: 0.0958\n",
      "Test Loss: 11.019675254821777\n",
      "Test Accuracy: 9.575950354337692\n"
     ]
    }
   ],
   "source": [
    "loss, accuracy = lstm_model.evaluate(test_input_data, test_label_data)\n",
    "\n",
    "print(\"Test Loss:\", loss)\n",
    "print(\"Test Accuracy:\", accuracy*100)"
   ]
  },
  {
   "cell_type": "code",
   "execution_count": 18,
   "id": "9lYiUPzxg5B5",
   "metadata": {
    "id": "9lYiUPzxg5B5"
   },
   "outputs": [],
   "source": [
    "from keras.models import load_model\n",
    "lstm_model=load_model('/content/lstm_model.h5')"
   ]
  },
  {
   "cell_type": "markdown",
   "id": "8h07zBvfGGDX",
   "metadata": {
    "id": "8h07zBvfGGDX"
   },
   "source": [
    "## Test Case 1"
   ]
  },
  {
   "cell_type": "code",
   "execution_count": 35,
   "id": "vdCfGDAxPKWY",
   "metadata": {
    "colab": {
     "base_uri": "https://localhost:8080/"
    },
    "id": "vdCfGDAxPKWY",
    "outputId": "c90215fd-7f74-49e8-a298-462d335cfa7b"
   },
   "outputs": [
    {
     "name": "stdout",
     "output_type": "stream",
     "text": [
      "Enter the next word (type 'exit' to terminate): does\n",
      "Is your next word: not\n",
      "Yes/ No /(type 'exit' to terminate): yes\n",
      "Your final Sentence is: does not\n",
      "Is your next word: hear\n",
      "Yes/ No /(type 'exit' to terminate): yes\n",
      "Your final Sentence is: does not hear\n",
      "Is your next word: to\n",
      "Yes/ No /(type 'exit' to terminate): yes\n",
      "Your final Sentence is: does not hear to\n",
      "Is your next word: times\n",
      "Yes/ No /(type 'exit' to terminate): no\n",
      "Sorry, Enter the Correct word: any\n",
      "Your final Sentence is: does not hear to any\n",
      "Is your next word: other\n",
      "Yes/ No /(type 'exit' to terminate): yes\n",
      "Your final Sentence is: does not hear to any other\n",
      "Is your next word: so\n",
      "Yes/ No /(type 'exit' to terminate): no\n",
      "Sorry, Enter the Correct word: bad\n",
      "Your final Sentence is: does not hear to any other bad\n",
      "Is your next word: but\n",
      "Yes/ No /(type 'exit' to terminate): no\n",
      "Sorry, Enter the Correct word: joke\n",
      "Your final Sentence is: does not hear to any other bad joke\n",
      "Is your next word: or\n",
      "Yes/ No /(type 'exit' to terminate): yes\n",
      "Your final Sentence is: does not hear to any other bad joke or\n",
      "Is your next word: due\n",
      "Yes/ No /(type 'exit' to terminate): yes\n",
      "Your final Sentence is: does not hear to any other bad joke or due\n",
      "Is your next word: to\n",
      "Yes/ No /(type 'exit' to terminate): exit\n",
      "Your final Sentence is: does not hear to any other bad joke or due\n"
     ]
    }
   ],
   "source": [
    "sentence = \"\"\n",
    "word = input(\"Enter the next word (type 'exit' to terminate): \")\n",
    "sentence += \" \" + word\n",
    "\n",
    "while True:\n",
    "    # Convert the input sentence to a sequence\n",
    "    input_sequence = tokenizer.texts_to_sequences([sentence])\n",
    "    padded_sequence = pad_sequences(input_sequence, maxlen=max_sequence_length)\n",
    "\n",
    "    # Predict the next word\n",
    "    predicted_probabilities = lstm_model.predict(padded_sequence,verbose=False)[0]\n",
    "    predicted_index = np.argmax(predicted_probabilities)\n",
    "    predicted_word = label_tokenizer.index_word[predicted_index]\n",
    "\n",
    "    print(\"Is your next word:\", predicted_word)\n",
    "    user_feedback = input(\"Yes/ No /(type 'exit' to terminate): \")\n",
    "    if user_feedback.lower() == \"exit\":\n",
    "        break\n",
    "    elif user_feedback.lower() == \"no\":\n",
    "        word = input(\"Sorry, Enter the Correct word: \")\n",
    "        sentence += \" \" + word\n",
    "    else:\n",
    "      sentence += \" \" + predicted_word\n",
    "\n",
    "    print(\"Your final Sentence is:\", sentence.strip())\n",
    "print(\"Your final Sentence is:\", sentence.strip())"
   ]
  },
  {
   "cell_type": "markdown",
   "id": "hEOVdmmYGJVl",
   "metadata": {
    "id": "hEOVdmmYGJVl"
   },
   "source": [
    "## Test Case 2"
   ]
  },
  {
   "cell_type": "code",
   "execution_count": 40,
   "id": "eRM_KoN7g4Qa",
   "metadata": {
    "colab": {
     "base_uri": "https://localhost:8080/"
    },
    "id": "eRM_KoN7g4Qa",
    "outputId": "ef551e0b-a13b-4484-cf54-4fb8ed85fa2e"
   },
   "outputs": [
    {
     "name": "stdout",
     "output_type": "stream",
     "text": [
      "Enter the next word (type 'exit' to terminate): the\n",
      "Is your next word: current\n",
      "Yes/ No /(type 'exit' to terminate): yes\n",
      "Your final Sentence is: the current\n",
      "Is your next word: agreements\n",
      "Yes/ No /(type 'exit' to terminate): yes\n",
      "Your final Sentence is: the current agreements\n",
      "Is your next word: for\n",
      "Yes/ No /(type 'exit' to terminate): yes\n",
      "Your final Sentence is: the current agreements for\n",
      "Is your next word: a\n",
      "Yes/ No /(type 'exit' to terminate): yes\n",
      "Your final Sentence is: the current agreements for a\n",
      "Is your next word: house\n",
      "Yes/ No /(type 'exit' to terminate): yes\n",
      "Your final Sentence is: the current agreements for a house\n",
      "Is your next word: a\n",
      "Yes/ No /(type 'exit' to terminate): no\n",
      "Sorry, Enter the Correct word: are\n",
      "Your final Sentence is: the current agreements for a house are\n",
      "Is your next word: is\n",
      "Yes/ No /(type 'exit' to terminate): no\n",
      "Sorry, Enter the Correct word: very\n",
      "Your final Sentence is: the current agreements for a house are very\n",
      "Is your next word: little\n",
      "Yes/ No /(type 'exit' to terminate): no\n",
      "Sorry, Enter the Correct word: much\n",
      "Your final Sentence is: the current agreements for a house are very much\n",
      "Is your next word: and\n",
      "Yes/ No /(type 'exit' to terminate): no\n",
      "Sorry, Enter the Correct word: difficult\n",
      "Your final Sentence is: the current agreements for a house are very much difficult\n",
      "Is your next word: to\n",
      "Yes/ No /(type 'exit' to terminate): exit\n",
      "Your final Sentence is: the current agreements for a house are very much difficult\n"
     ]
    }
   ],
   "source": [
    "sentence = \"\"\n",
    "word = input(\"Enter the next word (type 'exit' to terminate): \")\n",
    "sentence += \" \" + word\n",
    "\n",
    "while True:\n",
    "    # Convert the input sentence to a sequence\n",
    "    input_sequence = tokenizer.texts_to_sequences([sentence])\n",
    "    padded_sequence = pad_sequences(input_sequence, maxlen=max_sequence_length)\n",
    "\n",
    "    # Predict the next word\n",
    "    predicted_probabilities = lstm_model.predict(padded_sequence,verbose=False)[0]\n",
    "    predicted_index = np.argmax(predicted_probabilities)\n",
    "    predicted_word = label_tokenizer.index_word[predicted_index]\n",
    "\n",
    "    print(\"Is your next word:\", predicted_word)\n",
    "    user_feedback = input(\"Yes/ No /(type 'exit' to terminate): \")\n",
    "    if user_feedback.lower() == \"exit\":\n",
    "        break\n",
    "    elif user_feedback.lower() == \"no\":\n",
    "        word = input(\"Sorry, Enter the Correct word: \")\n",
    "        sentence += \" \" + word\n",
    "    else:\n",
    "      sentence += \" \" + predicted_word\n",
    "\n",
    "    print(\"Your final Sentence is:\", sentence.strip())\n",
    "print(\"Your final Sentence is:\", sentence.strip())"
   ]
  },
  {
   "cell_type": "markdown",
   "id": "PBU9y4fpGK-u",
   "metadata": {
    "id": "PBU9y4fpGK-u"
   },
   "source": [
    "## Test Case 3"
   ]
  },
  {
   "cell_type": "code",
   "execution_count": 38,
   "id": "QE90XBWdGEXY",
   "metadata": {
    "colab": {
     "base_uri": "https://localhost:8080/"
    },
    "id": "QE90XBWdGEXY",
    "outputId": "84cbfc10-3b93-4e6d-98cd-7b9a135f0e8b"
   },
   "outputs": [
    {
     "name": "stdout",
     "output_type": "stream",
     "text": [
      "Enter the next word (type 'exit' to terminate): I\n",
      "Is your next word: recognize\n",
      "Yes/ No /(type 'exit' to terminate): yes\n",
      "Your final Sentence is: I recognize\n",
      "Is your next word: now\n",
      "Yes/ No /(type 'exit' to terminate): yes\n",
      "Your final Sentence is: I recognize now\n",
      "Is your next word: after\n",
      "Yes/ No /(type 'exit' to terminate): yes\n",
      "Your final Sentence is: I recognize now after\n",
      "Is your next word: a\n",
      "Yes/ No /(type 'exit' to terminate): yes\n",
      "Your final Sentence is: I recognize now after a\n",
      "Is your next word: single\n",
      "Yes/ No /(type 'exit' to terminate): yes\n",
      "Your final Sentence is: I recognize now after a single\n",
      "Is your next word: employer\n",
      "Yes/ No /(type 'exit' to terminate): yes\n",
      "Your final Sentence is: I recognize now after a single employer\n",
      "Is your next word: and\n",
      "Yes/ No /(type 'exit' to terminate): yes\n",
      "Your final Sentence is: I recognize now after a single employer and\n",
      "Is your next word: we\n",
      "Yes/ No /(type 'exit' to terminate): yes\n",
      "Your final Sentence is: I recognize now after a single employer and we\n",
      "Is your next word: do\n",
      "Yes/ No /(type 'exit' to terminate): yes\n",
      "Your final Sentence is: I recognize now after a single employer and we do\n",
      "Is your next word: not\n",
      "Yes/ No /(type 'exit' to terminate): yes\n",
      "Your final Sentence is: I recognize now after a single employer and we do not\n",
      "Is your next word: have\n",
      "Yes/ No /(type 'exit' to terminate): yes\n",
      "Your final Sentence is: I recognize now after a single employer and we do not have\n",
      "Is your next word: a\n",
      "Yes/ No /(type 'exit' to terminate): yes\n",
      "Your final Sentence is: I recognize now after a single employer and we do not have a\n",
      "Is your next word: status\n",
      "Yes/ No /(type 'exit' to terminate): yes\n",
      "Your final Sentence is: I recognize now after a single employer and we do not have a status\n",
      "Is your next word: update\n",
      "Yes/ No /(type 'exit' to terminate): yes\n",
      "Your final Sentence is: I recognize now after a single employer and we do not have a status update\n",
      "Is your next word: on\n",
      "Yes/ No /(type 'exit' to terminate): exit\n",
      "Your final Sentence is: I recognize now after a single employer and we do not have a status update\n"
     ]
    }
   ],
   "source": [
    "sentence = \"\"\n",
    "word = input(\"Enter the next word (type 'exit' to terminate): \")\n",
    "sentence += \" \" + word\n",
    "\n",
    "while True:\n",
    "    # Convert the input sentence to a sequence\n",
    "    input_sequence = tokenizer.texts_to_sequences([sentence])\n",
    "    padded_sequence = pad_sequences(input_sequence, maxlen=max_sequence_length)\n",
    "\n",
    "    # Predict the next word\n",
    "    predicted_probabilities = lstm_model.predict(padded_sequence,verbose=False)[0]\n",
    "    predicted_index = np.argmax(predicted_probabilities)\n",
    "    predicted_word = label_tokenizer.index_word[predicted_index]\n",
    "\n",
    "    print(\"Is your next word:\", predicted_word)\n",
    "    user_feedback = input(\"Yes/ No /(type 'exit' to terminate): \")\n",
    "    if user_feedback.lower() == \"exit\":\n",
    "        break\n",
    "    elif user_feedback.lower() == \"no\":\n",
    "        word = input(\"Sorry, Enter the Correct word: \")\n",
    "        sentence += \" \" + word\n",
    "    else:\n",
    "      sentence += \" \" + predicted_word\n",
    "\n",
    "    print(\"Your final Sentence is:\", sentence.strip())\n",
    "print(\"Your final Sentence is:\", sentence.strip())"
   ]
  }
 ],
 "metadata": {
  "accelerator": "GPU",
  "colab": {
   "gpuType": "T4",
   "provenance": []
  },
  "gpuClass": "standard",
  "kernelspec": {
   "display_name": "Python 3 (ipykernel)",
   "language": "python",
   "name": "python3"
  },
  "language_info": {
   "codemirror_mode": {
    "name": "ipython",
    "version": 3
   },
   "file_extension": ".py",
   "mimetype": "text/x-python",
   "name": "python",
   "nbconvert_exporter": "python",
   "pygments_lexer": "ipython3",
   "version": "3.9.7"
  }
 },
 "nbformat": 4,
 "nbformat_minor": 5
}
